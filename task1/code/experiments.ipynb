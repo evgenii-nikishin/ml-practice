{
 "cells": [
  {
   "cell_type": "code",
   "execution_count": 1,
   "metadata": {
    "collapsed": false
   },
   "outputs": [],
   "source": [
    "import numpy as np\n",
    "from importlib import reload\n",
    "import matplotlib.pyplot as plt\n",
    "import matplotlib\n",
    "import time\n",
    "from matplotlib.backends.backend_pdf import PdfPages\n",
    "%matplotlib inline"
   ]
  },
  {
   "cell_type": "markdown",
   "metadata": {},
   "source": [
    "# Задание 1"
   ]
  },
  {
   "cell_type": "code",
   "execution_count": 2,
   "metadata": {
    "collapsed": true
   },
   "outputs": [],
   "source": [
    "import task1"
   ]
  },
  {
   "cell_type": "code",
   "execution_count": 77,
   "metadata": {
    "collapsed": false
   },
   "outputs": [
    {
     "data": {
      "text/plain": [
       "array([[1, 0, 1],\n",
       "       [2, 0, 2],\n",
       "       [3, 0, 3],\n",
       "       [4, 4, 4]])"
      ]
     },
     "execution_count": 77,
     "metadata": {},
     "output_type": "execute_result"
    }
   ],
   "source": [
    "X1 = np.array([\n",
    "        [1, 0, 1], \n",
    "        [2, 0, 2], \n",
    "        [3, 0, 3], \n",
    "        [4, 4, 4]\n",
    "    ])\n",
    "X1"
   ]
  },
  {
   "cell_type": "code",
   "execution_count": 78,
   "metadata": {
    "collapsed": false
   },
   "outputs": [
    {
     "data": {
      "text/plain": [
       "array([[4, 0, 0],\n",
       "       [0, 2, 0]])"
      ]
     },
     "execution_count": 78,
     "metadata": {},
     "output_type": "execute_result"
    }
   ],
   "source": [
    "X2 = np.array([\n",
    "        [4, 0, 0],\n",
    "        [0, 2, 0]\n",
    "    ])\n",
    "X2"
   ]
  },
  {
   "cell_type": "code",
   "execution_count": 79,
   "metadata": {
    "collapsed": false
   },
   "outputs": [
    {
     "data": {
      "text/plain": [
       "array([[0, 1, 2],\n",
       "       [5, 2, 7],\n",
       "       [3, 4, 0]])"
      ]
     },
     "execution_count": 79,
     "metadata": {},
     "output_type": "execute_result"
    }
   ],
   "source": [
    "X3 = np.array([\n",
    "        [0, 1, 2],\n",
    "        [5, 2, 7],\n",
    "        [3, 4, 0]\n",
    "    ])\n",
    "X3"
   ]
  },
  {
   "cell_type": "code",
   "execution_count": 80,
   "metadata": {
    "collapsed": false
   },
   "outputs": [
    {
     "name": "stdout",
     "output_type": "stream",
     "text": [
      "3\n",
      "8\n",
      "2\n"
     ]
    }
   ],
   "source": [
    "print(task1.diag_nonzero_prod1(X1))\n",
    "print(task1.diag_nonzero_prod1(X2))\n",
    "print(task1.diag_nonzero_prod1(X3))"
   ]
  },
  {
   "cell_type": "code",
   "execution_count": 81,
   "metadata": {
    "collapsed": false
   },
   "outputs": [
    {
     "name": "stdout",
     "output_type": "stream",
     "text": [
      "3\n",
      "8\n",
      "2\n"
     ]
    }
   ],
   "source": [
    "print(task1.diag_nonzero_prod2(X1))\n",
    "print(task1.diag_nonzero_prod2(X2))\n",
    "print(task1.diag_nonzero_prod2(X3))"
   ]
  },
  {
   "cell_type": "code",
   "execution_count": 82,
   "metadata": {
    "collapsed": false
   },
   "outputs": [
    {
     "name": "stdout",
     "output_type": "stream",
     "text": [
      "3\n",
      "8\n",
      "2\n"
     ]
    }
   ],
   "source": [
    "print(task1.diag_nonzero_prod3(X1))\n",
    "print(task1.diag_nonzero_prod3(X2))\n",
    "print(task1.diag_nonzero_prod3(X3))"
   ]
  },
  {
   "cell_type": "code",
   "execution_count": 66,
   "metadata": {
    "collapsed": true
   },
   "outputs": [],
   "source": [
    "n_tests = 13\n",
    "n_iterations = 5\n",
    "np.random.seed(317)\n",
    "power = 3\n",
    "parameter = 3\n",
    "durations1 = np.zeros((n_tests))\n",
    "durations2 = np.zeros((n_tests))\n",
    "durations3 = np.zeros((n_tests))\n",
    "vec = [x ** power for x in range(n_tests)]"
   ]
  },
  {
   "cell_type": "code",
   "execution_count": 67,
   "metadata": {
    "collapsed": false
   },
   "outputs": [],
   "source": [
    "for test in range(n_tests):\n",
    "    X = np.random.poisson(lam = parameter, size = (test ** power, test ** power))\n",
    "    start = time.time()\n",
    "    for iteration in range(n_iterations):\n",
    "        task1.diag_nonzero_prod1(X)\n",
    "    durations1[test] = (time.time() - start) / n_iterations\n",
    "    \n",
    "for test in range(n_tests):\n",
    "    X = np.random.poisson(lam = parameter, size = (test ** power, test ** power))\n",
    "    start = time.time()\n",
    "    for iteration in range(n_iterations):\n",
    "        task1.diag_nonzero_prod2(X)\n",
    "    durations2[test] = (time.time() - start) / n_iterations\n",
    "    \n",
    "for test in range(n_tests):\n",
    "    X = np.random.poisson(lam = parameter, size = (test ** power, test ** power))\n",
    "    start = time.time()\n",
    "    for iteration in range(n_iterations):\n",
    "        task1.diag_nonzero_prod3(X)\n",
    "    durations3[test] = (time.time() - start) / n_iterations"
   ]
  },
  {
   "cell_type": "code",
   "execution_count": 68,
   "metadata": {
    "collapsed": false
   },
   "outputs": [
    {
     "data": {
      "image/png": "[encoded data removed]",
      "text/plain": [
       "<matplotlib.figure.Figure at 0x7f5bc544b390>"
      ]
     },
     "metadata": {},
     "output_type": "display_data"
    }
   ],
   "source": [
    "pp = PdfPages('task1.pdf')\n",
    "plt.plot(range(len(vec)), durations1 * 1000, '-o')\n",
    "plt.plot(range(len(vec)), durations2 * 1000, '-o')\n",
    "plt.plot(range(len(vec)), durations3 * 1000, '-o')\n",
    "plt.title('Task 1 performance')\n",
    "plt.legend(['vectorized', 'nonvectorized', 'semi-vectorized'], loc='upper left')\n",
    "plt.xticks(range(len(vec)), vec)\n",
    "plt.ylabel('duration, ms')\n",
    "plt.xlabel('test_size')\n",
    "pp.savefig()\n",
    "pp.close()"
   ]
  },
  {
   "cell_type": "markdown",
   "metadata": {},
   "source": [
    "# Задание 2"
   ]
  },
  {
   "cell_type": "code",
   "execution_count": 84,
   "metadata": {
    "collapsed": true
   },
   "outputs": [],
   "source": [
    "import task2"
   ]
  },
  {
   "cell_type": "code",
   "execution_count": 85,
   "metadata": {
    "collapsed": false
   },
   "outputs": [
    {
     "data": {
      "text/plain": [
       "array([[1, 0, 1],\n",
       "       [2, 0, 2],\n",
       "       [3, 0, 3],\n",
       "       [4, 4, 4]])"
      ]
     },
     "execution_count": 85,
     "metadata": {},
     "output_type": "execute_result"
    }
   ],
   "source": [
    "X1 = np.array([[1, 0, 1], \n",
    "              [2, 0, 2], \n",
    "              [3, 0, 3], \n",
    "              [4, 4, 4]])\n",
    "X1"
   ]
  },
  {
   "cell_type": "code",
   "execution_count": 86,
   "metadata": {
    "collapsed": true
   },
   "outputs": [],
   "source": [
    "i1 = np.array([0, 3, 2])\n",
    "j1 = np.array([2, 0, 0])"
   ]
  },
  {
   "cell_type": "code",
   "execution_count": 87,
   "metadata": {
    "collapsed": false
   },
   "outputs": [
    {
     "data": {
      "text/plain": [
       "array([[4, 0, 0],\n",
       "       [0, 2, 0]])"
      ]
     },
     "execution_count": 87,
     "metadata": {},
     "output_type": "execute_result"
    }
   ],
   "source": [
    "X2 = np.array([\n",
    "        [4, 0, 0],\n",
    "        [0, 2, 0]\n",
    "    ])\n",
    "X2"
   ]
  },
  {
   "cell_type": "code",
   "execution_count": 88,
   "metadata": {
    "collapsed": true
   },
   "outputs": [],
   "source": [
    "i2 = np.array([0, 0, 1])\n",
    "j2 = np.array([2, 0, 2])"
   ]
  },
  {
   "cell_type": "code",
   "execution_count": 89,
   "metadata": {
    "collapsed": false
   },
   "outputs": [
    {
     "data": {
      "text/plain": [
       "array([[0, 1, 2],\n",
       "       [5, 0, 7],\n",
       "       [3, 4, 0]])"
      ]
     },
     "execution_count": 89,
     "metadata": {},
     "output_type": "execute_result"
    }
   ],
   "source": [
    "X3 = np.array([\n",
    "        [0, 1, 2],\n",
    "        [5, 0, 7],\n",
    "        [3, 4, 0]\n",
    "    ])\n",
    "X3"
   ]
  },
  {
   "cell_type": "code",
   "execution_count": 90,
   "metadata": {
    "collapsed": true
   },
   "outputs": [],
   "source": [
    "i3 = np.array([2, 2, 1, 0, 1])\n",
    "j3 = np.array([2, 0, 0, 1, 2])"
   ]
  },
  {
   "cell_type": "code",
   "execution_count": 91,
   "metadata": {
    "collapsed": false
   },
   "outputs": [
    {
     "name": "stdout",
     "output_type": "stream",
     "text": [
      "[1 4 3]\n",
      "[0 4 0]\n",
      "[0 3 5 1 7]\n"
     ]
    }
   ],
   "source": [
    "print(task2.new_vector1(X1, i1, j1))\n",
    "print(task2.new_vector1(X2, i2, j2))\n",
    "print(task2.new_vector1(X3, i3, j3))"
   ]
  },
  {
   "cell_type": "code",
   "execution_count": 92,
   "metadata": {
    "collapsed": false
   },
   "outputs": [
    {
     "name": "stdout",
     "output_type": "stream",
     "text": [
      "[1 4 3]\n",
      "[0 4 0]\n",
      "[0 3 5 1 7]\n"
     ]
    }
   ],
   "source": [
    "print(task2.new_vector2(X1, i1, j1))\n",
    "print(task2.new_vector2(X2, i2, j2))\n",
    "print(task2.new_vector2(X3, i3, j3))"
   ]
  },
  {
   "cell_type": "code",
   "execution_count": 93,
   "metadata": {
    "collapsed": false
   },
   "outputs": [
    {
     "name": "stdout",
     "output_type": "stream",
     "text": [
      "[1 4 3]\n",
      "[0 4 0]\n",
      "[0 3 5 1 7]\n"
     ]
    }
   ],
   "source": [
    "print(task2.new_vector3(X1, i1, j1))\n",
    "print(task2.new_vector3(X2, i2, j2))\n",
    "print(task2.new_vector3(X3, i3, j3))"
   ]
  },
  {
   "cell_type": "code",
   "execution_count": 141,
   "metadata": {
    "collapsed": true
   },
   "outputs": [],
   "source": [
    "n_tests = 13\n",
    "n_iterations = 5\n",
    "np.random.seed(317)\n",
    "power = 3\n",
    "parameter = 3\n",
    "durations1 = np.zeros((n_tests - 1))\n",
    "durations2 = np.zeros((n_tests - 1))\n",
    "durations3 = np.zeros((n_tests - 1))\n",
    "vec = [x ** power for x in range(1, n_tests)]"
   ]
  },
  {
   "cell_type": "code",
   "execution_count": 148,
   "metadata": {
    "collapsed": false
   },
   "outputs": [],
   "source": [
    "for test in range(1, n_tests):\n",
    "    X = np.random.poisson(lam = parameter, size = (test ** power, test ** power))\n",
    "    i = np.random.randint(0, test ** power, size=(test ** power))\n",
    "    j = np.random.randint(0, test ** power, size=(test ** power))\n",
    "    start = time.time()\n",
    "    for iteration in range(n_iterations):\n",
    "        task2.new_vector1(X, i, j)\n",
    "    durations1[test-1] = (time.time() - start) / n_iterations\n",
    "\n",
    "for test in range(1, n_tests):\n",
    "    X = np.random.poisson(lam = parameter, size = (test ** power, test ** power))\n",
    "    i = np.random.randint(0, test ** power, size=(test ** power))\n",
    "    j = np.random.randint(0, test ** power, size=(test ** power))\n",
    "    start = time.time()\n",
    "    for iteration in range(n_iterations):\n",
    "        task2.new_vector2(X, i, j)\n",
    "    durations2[test-1] = (time.time() - start) / n_iterations\n",
    "\n",
    "for test in range(1, n_tests):\n",
    "    X = np.random.poisson(lam = parameter, size = (test ** power, test ** power))\n",
    "    i = np.random.randint(0, test ** power, size=(test ** power))\n",
    "    j = np.random.randint(0, test ** power, size=(test ** power))\n",
    "    start = time.time()\n",
    "    for iteration in range(n_iterations):\n",
    "        task2.new_vector3(X, i, j)\n",
    "    durations3[test-1] = (time.time() - start) / n_iterations"
   ]
  },
  {
   "cell_type": "code",
   "execution_count": 149,
   "metadata": {
    "collapsed": false
   },
   "outputs": [
    {
     "data": {
      "image/png": "[encoded data removed]",
      "text/plain": [
       "<matplotlib.figure.Figure at 0x7f5bc4d285f8>"
      ]
     },
     "metadata": {},
     "output_type": "display_data"
    }
   ],
   "source": [
    "pp = PdfPages('task2.pdf')\n",
    "plt.plot(range(len(vec)), durations1 * 1000, '-o')\n",
    "plt.plot(range(len(vec)), durations2 * 1000, '-o')\n",
    "plt.plot(range(len(vec)), durations3 * 1000, '-o')\n",
    "plt.title('Task 2 performance')\n",
    "plt.legend(['vectorized', 'nonvectorized', 'semi-vectorized'], loc='upper left')\n",
    "plt.xticks(range(len(vec)), vec)\n",
    "plt.ylabel('duration, ms')\n",
    "plt.xlabel('test_size')\n",
    "pp.savefig()\n",
    "pp.close()"
   ]
  },
  {
   "cell_type": "markdown",
   "metadata": {},
   "source": [
    "# Задание 3"
   ]
  },
  {
   "cell_type": "code",
   "execution_count": 31,
   "metadata": {
    "collapsed": true
   },
   "outputs": [],
   "source": [
    "import task3"
   ]
  },
  {
   "cell_type": "code",
   "execution_count": 32,
   "metadata": {
    "collapsed": true
   },
   "outputs": [],
   "source": [
    "x1 = np.array([1, 2, 2, 4])\n",
    "y1 = np.array([4, 2, 1, 2])"
   ]
  },
  {
   "cell_type": "code",
   "execution_count": 33,
   "metadata": {
    "collapsed": true
   },
   "outputs": [],
   "source": [
    "x2 = np.array([2, 2, 2, 2, 1, 1])\n",
    "y2 = np.array([2, 2, 2, 2, 2, 1])"
   ]
  },
  {
   "cell_type": "code",
   "execution_count": 34,
   "metadata": {
    "collapsed": true
   },
   "outputs": [],
   "source": [
    "x3 = np.array([1, 2, 3, 3, 5])\n",
    "y3 = np.array([7, 9])"
   ]
  },
  {
   "cell_type": "code",
   "execution_count": 35,
   "metadata": {
    "collapsed": false
   },
   "outputs": [
    {
     "name": "stdout",
     "output_type": "stream",
     "text": [
      "True\n",
      "False\n",
      "False\n"
     ]
    }
   ],
   "source": [
    "print(task3.check_multisets1(x1, y1))\n",
    "print(task3.check_multisets1(x2, y2))\n",
    "print(task3.check_multisets1(x2, y3))"
   ]
  },
  {
   "cell_type": "code",
   "execution_count": 36,
   "metadata": {
    "collapsed": false
   },
   "outputs": [
    {
     "name": "stdout",
     "output_type": "stream",
     "text": [
      "True\n",
      "False\n",
      "False\n"
     ]
    }
   ],
   "source": [
    "print(task3.check_multisets2(x1, y1))\n",
    "print(task3.check_multisets2(x2, y2))\n",
    "print(task3.check_multisets2(x2, y3))"
   ]
  },
  {
   "cell_type": "code",
   "execution_count": 37,
   "metadata": {
    "collapsed": false,
    "scrolled": true
   },
   "outputs": [
    {
     "name": "stdout",
     "output_type": "stream",
     "text": [
      "True\n",
      "False\n",
      "False\n"
     ]
    }
   ],
   "source": [
    "print(task3.check_multisets3(x1, y1))\n",
    "print(task3.check_multisets3(x2, y2))\n",
    "print(task3.check_multisets3(x2, y3))"
   ]
  },
  {
   "cell_type": "code",
   "execution_count": 38,
   "metadata": {
    "collapsed": true
   },
   "outputs": [],
   "source": [
    "n_tests = 13\n",
    "n_iterations = 5\n",
    "np.random.seed(317)\n",
    "power = 3\n",
    "parameter = 3\n",
    "durations1_true = np.zeros((n_tests))\n",
    "durations2_true = np.zeros((n_tests))\n",
    "durations3_true = np.zeros((n_tests))\n",
    "durations1_false = np.zeros((n_tests))\n",
    "durations2_false = np.zeros((n_tests))\n",
    "durations3_false = np.zeros((n_tests))\n",
    "durations1 = np.zeros((n_tests))\n",
    "durations2 = np.zeros((n_tests))\n",
    "durations3 = np.zeros((n_tests))\n",
    "vec = [x ** power for x in range(n_tests)]"
   ]
  },
  {
   "cell_type": "code",
   "execution_count": 39,
   "metadata": {
    "collapsed": false
   },
   "outputs": [],
   "source": [
    "for test in range(n_tests):\n",
    "    x = np.random.poisson(lam = parameter, size = (test ** power))\n",
    "    y = np.random.poisson(lam = parameter, size = (test ** power))\n",
    "    start = time.time()\n",
    "    for iteration in range(n_iterations):\n",
    "        task3.check_multisets1(x, y)\n",
    "    durations1_false[test] = (time.time() - start) / n_iterations\n",
    "\n",
    "for test in range(n_tests):\n",
    "    x = np.random.poisson(lam = parameter, size = (test ** power))\n",
    "    y = x.copy()\n",
    "    np.random.shuffle(y)\n",
    "    start = time.time()\n",
    "    for iteration in range(n_iterations):\n",
    "        task3.check_multisets1(x, y)\n",
    "    durations1_true[test] = (time.time() - start) / n_iterations\n",
    "    \n",
    "durations1 = (durations1_true + durations1_false) / 2\n",
    "\n",
    "\n",
    "for test in range(n_tests):\n",
    "    x = np.random.poisson(lam = parameter, size = (test ** power))\n",
    "    y = np.random.poisson(lam = parameter, size = (test ** power))\n",
    "    start = time.time()\n",
    "    for iteration in range(n_iterations):\n",
    "        task3.check_multisets2(x, y)\n",
    "    durations2_false[test] = (time.time() - start) / n_iterations\n",
    "\n",
    "for test in range(n_tests):\n",
    "    x = np.random.poisson(lam = parameter, size = (test ** power))\n",
    "    y = x.copy()\n",
    "    np.random.shuffle(y)\n",
    "    start = time.time()\n",
    "    for iteration in range(n_iterations):\n",
    "        task3.check_multisets2(x, y)\n",
    "    durations2_true[test] = (time.time() - start) / n_iterations\n",
    "    \n",
    "durations2 = (durations2_true + durations2_false) / 2\n",
    "\n",
    "\n",
    "for test in range(n_tests):\n",
    "    x = np.random.poisson(lam = parameter, size = (test ** power))\n",
    "    y = np.random.poisson(lam = parameter, size = (test ** power))\n",
    "    start = time.time()\n",
    "    for iteration in range(n_iterations):\n",
    "        task3.check_multisets3(x, y)\n",
    "    durations3_false[test] = (time.time() - start) / n_iterations\n",
    "\n",
    "for test in range(n_tests):\n",
    "    x = np.random.poisson(lam = parameter, size = (test ** power))\n",
    "    y = x.copy()\n",
    "    np.random.shuffle(y)\n",
    "    start = time.time()\n",
    "    for iteration in range(n_iterations):\n",
    "        task3.check_multisets3(x, y)\n",
    "    durations3_true[test] = (time.time() - start) / n_iterations\n",
    "    \n",
    "durations3 = (durations3_true + durations3_false) / 2"
   ]
  },
  {
   "cell_type": "code",
   "execution_count": 40,
   "metadata": {
    "collapsed": false
   },
   "outputs": [
    {
     "data": {
      "image/png": "[encoded data removed]",
      "text/plain": [
       "<matplotlib.figure.Figure at 0x7f550a9e3ac8>"
      ]
     },
     "metadata": {},
     "output_type": "display_data"
    }
   ],
   "source": [
    "pp = PdfPages('task3.pdf')\n",
    "plt.plot(range(len(vec)), durations1 * 1000, '-o')\n",
    "plt.plot(range(len(vec)), durations2 * 1000, '-o')\n",
    "plt.plot(range(len(vec)), durations3 * 1000, '-o')\n",
    "plt.title('Task 3 performance')\n",
    "plt.legend(['vectorized', 'nonvectorized', 'with lists'], loc='upper left')\n",
    "plt.xticks(range(len(vec)), vec)\n",
    "plt.ylabel('duration, ms')\n",
    "plt.xlabel('test_size')\n",
    "pp.savefig()\n",
    "pp.close()"
   ]
  },
  {
   "cell_type": "markdown",
   "metadata": {},
   "source": [
    "# Задание 4"
   ]
  },
  {
   "cell_type": "code",
   "execution_count": 41,
   "metadata": {
    "collapsed": true
   },
   "outputs": [],
   "source": [
    "import task4"
   ]
  },
  {
   "cell_type": "code",
   "execution_count": 42,
   "metadata": {
    "collapsed": true
   },
   "outputs": [],
   "source": [
    "x1 = np.array([7, 0, 4, 0, 5, 6, 0])"
   ]
  },
  {
   "cell_type": "code",
   "execution_count": 43,
   "metadata": {
    "collapsed": true
   },
   "outputs": [],
   "source": [
    "x2 = np.array([0, 0, 0])"
   ]
  },
  {
   "cell_type": "code",
   "execution_count": 44,
   "metadata": {
    "collapsed": true
   },
   "outputs": [],
   "source": [
    "x3 = np.array([0, 2, 0, 5, 6, 9])"
   ]
  },
  {
   "cell_type": "code",
   "execution_count": 45,
   "metadata": {
    "collapsed": false
   },
   "outputs": [
    {
     "name": "stdout",
     "output_type": "stream",
     "text": [
      "5\n",
      "0\n",
      "5\n"
     ]
    }
   ],
   "source": [
    "print(task4.max_after_zero1(x1))\n",
    "print(task4.max_after_zero1(x2))\n",
    "print(task4.max_after_zero1(x3))"
   ]
  },
  {
   "cell_type": "code",
   "execution_count": 46,
   "metadata": {
    "collapsed": false
   },
   "outputs": [
    {
     "name": "stdout",
     "output_type": "stream",
     "text": [
      "5\n",
      "0\n",
      "5\n"
     ]
    }
   ],
   "source": [
    "print(task4.max_after_zero2(x1))\n",
    "print(task4.max_after_zero2(x2))\n",
    "print(task4.max_after_zero2(x3))"
   ]
  },
  {
   "cell_type": "code",
   "execution_count": 47,
   "metadata": {
    "collapsed": false
   },
   "outputs": [
    {
     "name": "stdout",
     "output_type": "stream",
     "text": [
      "5\n",
      "0\n",
      "5\n"
     ]
    }
   ],
   "source": [
    "print(task4.max_after_zero3(x1))\n",
    "print(task4.max_after_zero3(x2))\n",
    "print(task4.max_after_zero3(x3))"
   ]
  },
  {
   "cell_type": "code",
   "execution_count": 49,
   "metadata": {
    "collapsed": false
   },
   "outputs": [],
   "source": [
    "n_tests = 13\n",
    "n_iterations = 5\n",
    "np.random.seed(317)\n",
    "power = 3\n",
    "parameter = 3\n",
    "durations1 = np.zeros((n_tests - 1))\n",
    "durations2 = np.zeros((n_tests - 1))\n",
    "durations3 = np.zeros((n_tests - 1))\n",
    "vec = [x ** power + 1 for x in range(1, n_tests)]"
   ]
  },
  {
   "cell_type": "code",
   "execution_count": 50,
   "metadata": {
    "collapsed": false
   },
   "outputs": [],
   "source": [
    "for test in range(1, n_tests):\n",
    "    x = np.random.poisson(lam = parameter, size=(test ** power))\n",
    "    x = np.append([0], x)\n",
    "    start = time.time()\n",
    "    for iteration in range(n_iterations):\n",
    "        task4.max_after_zero1(x)\n",
    "    durations1[test-1] = (time.time() - start) / n_iterations\n",
    "    \n",
    "for test in range(1, n_tests):\n",
    "    x = np.random.poisson(lam = parameter, size=(test ** power))\n",
    "    x = np.append(x, [0])\n",
    "    np.random.shuffle(x)\n",
    "    start = time.time()\n",
    "    for iteration in range(n_iterations):\n",
    "        task4.max_after_zero2(x)\n",
    "    durations2[test-1] = (time.time() - start) / n_iterations\n",
    "    \n",
    "for test in range(1, n_tests):\n",
    "    x = np.random.poisson(lam = parameter, size=(test ** power))\n",
    "    x = np.append(x, [0])\n",
    "    np.random.shuffle(x)\n",
    "    start = time.time()\n",
    "    for iteration in range(n_iterations):\n",
    "        task4.max_after_zero3(x)\n",
    "    durations3[test-1] = (time.time() - start) / n_iterations"
   ]
  },
  {
   "cell_type": "code",
   "execution_count": 51,
   "metadata": {
    "collapsed": false
   },
   "outputs": [
    {
     "data": {
      "image/png": "[encoded data removed]",
      "text/plain": [
       "<matplotlib.figure.Figure at 0x7fccd56e72b0>"
      ]
     },
     "metadata": {},
     "output_type": "display_data"
    }
   ],
   "source": [
    "pp = PdfPages('task4.pdf')\n",
    "plt.plot(range(len(vec)), durations1 * 1000, '-o')\n",
    "plt.plot(range(len(vec)), durations2 * 1000, '-o')\n",
    "plt.plot(range(len(vec)), durations3 * 1000, '-o')\n",
    "plt.title('Task 4 performance')\n",
    "plt.legend(['vectorized', 'nonvectorized', 'with list'], loc='upper left')\n",
    "plt.xticks(range(len(vec)), vec)\n",
    "plt.ylabel('duration, ms')\n",
    "plt.xlabel('test_size')\n",
    "pp.savefig()\n",
    "pp.close()"
   ]
  },
  {
   "cell_type": "markdown",
   "metadata": {},
   "source": [
    "# Задание 5"
   ]
  },
  {
   "cell_type": "code",
   "execution_count": 2,
   "metadata": {
    "collapsed": false
   },
   "outputs": [],
   "source": [
    "import task5"
   ]
  },
  {
   "cell_type": "code",
   "execution_count": 3,
   "metadata": {
    "collapsed": true
   },
   "outputs": [],
   "source": [
    "import scipy.misc"
   ]
  },
  {
   "cell_type": "code",
   "execution_count": 4,
   "metadata": {
    "collapsed": false,
    "scrolled": true
   },
   "outputs": [],
   "source": [
    "X1 = scipy.misc.imread('0001.bmp')"
   ]
  },
  {
   "cell_type": "markdown",
   "metadata": {},
   "source": [
    "<img src='0001.bmp'>"
   ]
  },
  {
   "cell_type": "code",
   "execution_count": 5,
   "metadata": {
    "collapsed": false,
    "scrolled": true
   },
   "outputs": [],
   "source": [
    "X2 = scipy.misc.imread('0002.bmp')"
   ]
  },
  {
   "cell_type": "markdown",
   "metadata": {},
   "source": [
    "<img src='0002.bmp'>"
   ]
  },
  {
   "cell_type": "code",
   "execution_count": 6,
   "metadata": {
    "collapsed": false
   },
   "outputs": [],
   "source": [
    "X3 = scipy.misc.imread('0003.bmp')"
   ]
  },
  {
   "cell_type": "markdown",
   "metadata": {},
   "source": [
    "<img src='0003.bmp'>"
   ]
  },
  {
   "cell_type": "code",
   "execution_count": 92,
   "metadata": {
    "collapsed": false
   },
   "outputs": [],
   "source": [
    "scipy.misc.imsave(\"pic1.bmp\", task5.weighted_array_sum1(X1, [0.299, 0.587, 0.114]))"
   ]
  },
  {
   "cell_type": "code",
   "execution_count": 95,
   "metadata": {
    "collapsed": false
   },
   "outputs": [],
   "source": [
    "scipy.misc.imsave(\"pic2.bmp\", task5.weighted_array_sum1(X2, [0.299, 0.587, 0.114]))"
   ]
  },
  {
   "cell_type": "code",
   "execution_count": 98,
   "metadata": {
    "collapsed": false
   },
   "outputs": [],
   "source": [
    "scipy.misc.imsave(\"pic3.bmp\", task5.weighted_array_sum1(X3, [0.299, 0.587, 0.114]))"
   ]
  },
  {
   "cell_type": "markdown",
   "metadata": {},
   "source": [
    "Один из результатов:\n",
    "<img src='pic1.bmp'>"
   ]
  },
  {
   "cell_type": "code",
   "execution_count": 96,
   "metadata": {
    "collapsed": false
   },
   "outputs": [],
   "source": [
    "scipy.misc.imsave(\"pic1.bmp\", task5.weighted_array_sum2(X1, [0.299, 0.587, 0.114]))"
   ]
  },
  {
   "cell_type": "code",
   "execution_count": 93,
   "metadata": {
    "collapsed": false
   },
   "outputs": [],
   "source": [
    "scipy.misc.imsave(\"pic2.bmp\", task5.weighted_array_sum2(X2, [0.299, 0.587, 0.114]))"
   ]
  },
  {
   "cell_type": "code",
   "execution_count": 99,
   "metadata": {
    "collapsed": false
   },
   "outputs": [],
   "source": [
    "scipy.misc.imsave(\"pic3.bmp\", task5.weighted_array_sum2(X3, [0.299, 0.587, 0.114]))"
   ]
  },
  {
   "cell_type": "markdown",
   "metadata": {},
   "source": [
    "Один из результатов:\n",
    "<img src='pic3.bmp'>"
   ]
  },
  {
   "cell_type": "code",
   "execution_count": 94,
   "metadata": {
    "collapsed": false
   },
   "outputs": [],
   "source": [
    "scipy.misc.imsave(\"pic1.bmp\", task5.weighted_array_sum3(X1, [0.299, 0.587, 0.114]))"
   ]
  },
  {
   "cell_type": "code",
   "execution_count": 97,
   "metadata": {
    "collapsed": false
   },
   "outputs": [],
   "source": [
    "scipy.misc.imsave(\"pic2.bmp\", task5.weighted_array_sum3(X2, [0.299, 0.587, 0.114]))"
   ]
  },
  {
   "cell_type": "code",
   "execution_count": 100,
   "metadata": {
    "collapsed": false
   },
   "outputs": [],
   "source": [
    "scipy.misc.imsave(\"pic3.bmp\", task5.weighted_array_sum3(X3, [0.299, 0.587, 0.114]))"
   ]
  },
  {
   "cell_type": "markdown",
   "metadata": {},
   "source": [
    "Один из результатов:\n",
    "<img src='pic2.bmp'>"
   ]
  },
  {
   "cell_type": "code",
   "execution_count": 7,
   "metadata": {
    "collapsed": true
   },
   "outputs": [],
   "source": [
    "n_tests = 5\n",
    "n_iterations = 5\n",
    "weights = [0.299, 0.587, 0.114]\n",
    "durations1 = np.zeros((n_tests))\n",
    "durations2 = np.zeros((n_tests))\n",
    "durations3 = np.zeros((n_tests))\n",
    "vec = []"
   ]
  },
  {
   "cell_type": "code",
   "execution_count": 8,
   "metadata": {
    "collapsed": false
   },
   "outputs": [
    {
     "name": "stdout",
     "output_type": "stream",
     "text": [
      "1-0\n",
      "1-1\n",
      "1-2\n",
      "1-3\n",
      "1-4\n",
      "2-0\n",
      "2-1\n",
      "2-2\n",
      "2-3\n",
      "2-4\n",
      "3-0\n",
      "3-1\n",
      "3-2\n",
      "3-3\n",
      "3-4\n"
     ]
    }
   ],
   "source": [
    "for test in range(n_tests):\n",
    "    X = scipy.misc.imread('5_' + str(test+1) + '.bmp')\n",
    "    vec.append(int(np.sqrt(X.shape[0] * X.shape[1])))\n",
    "    print ('training 1-' + str(test))\n",
    "    start = time.time()\n",
    "    for iteration in range(n_iterations):\n",
    "        task5.weighted_array_sum1(X, weights)\n",
    "    durations1[test] = (time.time() - start) / n_iterations\n",
    "\n",
    "for test in range(n_tests):\n",
    "    X = scipy.misc.imread('5_' + str(test+1) + '.bmp')\n",
    "    start = time.time()\n",
    "    print ('training 2-' + str(test))\n",
    "    for iteration in range(n_iterations):\n",
    "        task5.weighted_array_sum2(X, weights)\n",
    "    durations2[test] = (time.time() - start) / n_iterations\n",
    "    \n",
    "for test in range(n_tests):\n",
    "    X = scipy.misc.imread('5_' + str(test+1) + '.bmp')\n",
    "    start = time.time()\n",
    "    print ('training 3-' + str(test))\n",
    "    for iteration in range(n_iterations):\n",
    "        task5.weighted_array_sum3(X, weights)\n",
    "    durations3[test] = (time.time() - start) / n_iterations"
   ]
  },
  {
   "cell_type": "code",
   "execution_count": 9,
   "metadata": {
    "collapsed": false,
    "scrolled": true
   },
   "outputs": [
    {
     "data": {
      "image/png": "[encoded data removed]",
      "text/plain": [
       "<matplotlib.figure.Figure at 0x7fccdb049390>"
      ]
     },
     "metadata": {},
     "output_type": "display_data"
    }
   ],
   "source": [
    "pp = PdfPages('task5_1.pdf')\n",
    "plt.plot(range(len(vec)), durations1 * 1000, '-o')\n",
    "plt.plot(range(len(vec)), durations2 * 1000, '-o')\n",
    "plt.plot(range(len(vec)), durations3 * 1000, '-o')\n",
    "plt.title('Task 5 performance with log scale')\n",
    "plt.legend(['vectorized', 'nonvectorized', 'semi-vectorized'], loc='upper left')\n",
    "plt.xticks(range(len(vec)), vec)\n",
    "plt.ylabel('duration, ms')\n",
    "plt.yscale('log')\n",
    "plt.xlabel('test_size')\n",
    "pp.savefig()\n",
    "pp.close()"
   ]
  },
  {
   "cell_type": "code",
   "execution_count": 10,
   "metadata": {
    "collapsed": false
   },
   "outputs": [
    {
     "data": {
      "image/png": "[encoded data removed]",
      "text/plain": [
       "<matplotlib.figure.Figure at 0x7fccdbc495f8>"
      ]
     },
     "metadata": {},
     "output_type": "display_data"
    }
   ],
   "source": [
    "pp = PdfPages('task5_2.pdf')\n",
    "plt.plot(range(len(vec)), durations1 * 1000, '-o')\n",
    "plt.plot(range(len(vec)), durations2 * 1000, '-o')\n",
    "plt.plot(range(len(vec)), durations3 * 1000, '-o')\n",
    "plt.title('Task 5 performance with natural scale')\n",
    "plt.legend(['vectorized', 'nonvectorized', 'semi-vectorized'], loc='upper left')\n",
    "plt.xticks(range(len(vec)), vec)\n",
    "plt.ylabel('duration, ms')\n",
    "plt.xlabel('test_size')\n",
    "pp.savefig()\n",
    "pp.close()"
   ]
  },
  {
   "cell_type": "markdown",
   "metadata": {},
   "source": [
    "# Задание 6"
   ]
  },
  {
   "cell_type": "code",
   "execution_count": 52,
   "metadata": {
    "collapsed": true
   },
   "outputs": [],
   "source": [
    "import task6"
   ]
  },
  {
   "cell_type": "code",
   "execution_count": 53,
   "metadata": {
    "collapsed": false
   },
   "outputs": [
    {
     "data": {
      "text/plain": [
       "<module 'task6' from '/home/evgeny/progs/Python/prac/task1/task6.py'>"
      ]
     },
     "execution_count": 53,
     "metadata": {},
     "output_type": "execute_result"
    }
   ],
   "source": [
    "reload(task6)"
   ]
  },
  {
   "cell_type": "code",
   "execution_count": 54,
   "metadata": {
    "collapsed": false
   },
   "outputs": [],
   "source": [
    "x1 = np.array([7, 7, 7, 7, 4, 4, 3, 8, 9, 9, 7, 7])"
   ]
  },
  {
   "cell_type": "code",
   "execution_count": 55,
   "metadata": {
    "collapsed": true
   },
   "outputs": [],
   "source": [
    "x2 = np.array([0])"
   ]
  },
  {
   "cell_type": "code",
   "execution_count": 56,
   "metadata": {
    "collapsed": true
   },
   "outputs": [],
   "source": [
    "x3 = np.array([1, 1, 1, 1, 1, 1, 1])"
   ]
  },
  {
   "cell_type": "code",
   "execution_count": 57,
   "metadata": {
    "collapsed": false,
    "scrolled": true
   },
   "outputs": [
    {
     "name": "stdout",
     "output_type": "stream",
     "text": [
      "(array([7, 4, 3, 8, 9, 7]), array([4, 2, 1, 1, 2, 2]))\n",
      "(array([0]), array([1]))\n",
      "(array([1]), array([7]))\n"
     ]
    }
   ],
   "source": [
    "print(task6.encoding1(x1))\n",
    "print(task6.encoding1(x2))\n",
    "print(task6.encoding1(x3))"
   ]
  },
  {
   "cell_type": "code",
   "execution_count": 58,
   "metadata": {
    "collapsed": false
   },
   "outputs": [
    {
     "name": "stdout",
     "output_type": "stream",
     "text": [
      "(array([7, 4, 3, 8, 9, 7]), array([4, 2, 1, 1, 2, 2]))\n",
      "(array([0]), array([1]))\n",
      "(array([1]), array([7]))\n"
     ]
    }
   ],
   "source": [
    "print(task6.encoding2(x1))\n",
    "print(task6.encoding2(x2))\n",
    "print(task6.encoding2(x3))"
   ]
  },
  {
   "cell_type": "code",
   "execution_count": 59,
   "metadata": {
    "collapsed": false
   },
   "outputs": [
    {
     "name": "stdout",
     "output_type": "stream",
     "text": [
      "(array([7, 4, 3, 8, 9, 7]), array([4, 2, 1, 1, 2, 2]))\n",
      "(array([0]), array([1]))\n",
      "(array([1]), array([7]))\n"
     ]
    }
   ],
   "source": [
    "print(task6.encoding3(x1))\n",
    "print(task6.encoding3(x2))\n",
    "print(task6.encoding3(x3))"
   ]
  },
  {
   "cell_type": "code",
   "execution_count": 89,
   "metadata": {
    "collapsed": true
   },
   "outputs": [],
   "source": [
    "n_tests = 13\n",
    "n_iterations = 5\n",
    "np.random.seed(317)\n",
    "power = 3\n",
    "parameter = 2\n",
    "durations1 = np.zeros((n_tests - 1))\n",
    "durations2 = np.zeros((n_tests - 1))\n",
    "durations3 = np.zeros((n_tests - 1))\n",
    "vec = [x ** power for x in range(1, n_tests)]"
   ]
  },
  {
   "cell_type": "code",
   "execution_count": 90,
   "metadata": {
    "collapsed": true
   },
   "outputs": [],
   "source": [
    "for test in range(1, n_tests):\n",
    "    x = np.random.poisson(lam = parameter, size=(test ** power))\n",
    "    start = time.time()\n",
    "    for iteration in range(n_iterations):\n",
    "        task6.encoding1(x)\n",
    "    durations1[test-1] = (time.time() - start) / n_iterations\n",
    "    \n",
    "for test in range(1, n_tests):\n",
    "    x = np.random.poisson(lam = parameter, size=(test ** power))\n",
    "    start = time.time()\n",
    "    for iteration in range(n_iterations):\n",
    "        task6.encoding2(x)\n",
    "    durations2[test-1] = (time.time() - start) / n_iterations\n",
    "    \n",
    "for test in range(1, n_tests):\n",
    "    x = np.random.poisson(lam = parameter, size=(test ** power))\n",
    "    start = time.time()\n",
    "    for iteration in range(n_iterations):\n",
    "        task6.encoding3(x)\n",
    "    durations3[test-1] = (time.time() - start) / n_iterations"
   ]
  },
  {
   "cell_type": "code",
   "execution_count": 94,
   "metadata": {
    "collapsed": false
   },
   "outputs": [
    {
     "data": {
      "image/png": "[encoded data removed]",
      "text/plain": [
       "<matplotlib.figure.Figure at 0x7fccdbc23358>"
      ]
     },
     "metadata": {},
     "output_type": "display_data"
    }
   ],
   "source": [
    "pp = PdfPages('task6.pdf')\n",
    "plt.plot(range(len(vec)), durations1 * 1000, '-o')\n",
    "plt.plot(range(len(vec)), durations2 * 1000, '-o')\n",
    "plt.plot(range(len(vec)), durations3 * 1000, '-o')\n",
    "plt.title('Task 6 performance')\n",
    "plt.legend(['vectorized', 'nonvectorized', 'cutting'], loc='upper left')\n",
    "plt.xticks(range(len(vec)), vec)\n",
    "plt.ylabel('duration, ms')\n",
    "plt.xlabel('test_size')\n",
    "plt.yscale('log')\n",
    "pp.savefig()\n",
    "pp.close()"
   ]
  },
  {
   "cell_type": "markdown",
   "metadata": {
    "collapsed": true
   },
   "source": [
    "# Задание 7"
   ]
  },
  {
   "cell_type": "code",
   "execution_count": 2,
   "metadata": {
    "collapsed": true
   },
   "outputs": [],
   "source": [
    "import task7"
   ]
  },
  {
   "cell_type": "code",
   "execution_count": 3,
   "metadata": {
    "collapsed": false
   },
   "outputs": [
    {
     "data": {
      "text/plain": [
       "<module 'task7' from '/home/evgeny/progs/Python/prac/task1/task7.py'>"
      ]
     },
     "execution_count": 3,
     "metadata": {},
     "output_type": "execute_result"
    }
   ],
   "source": [
    "reload(task7)"
   ]
  },
  {
   "cell_type": "code",
   "execution_count": 4,
   "metadata": {
    "collapsed": true
   },
   "outputs": [],
   "source": [
    "import scipy.spatial.distance"
   ]
  },
  {
   "cell_type": "code",
   "execution_count": 5,
   "metadata": {
    "collapsed": true
   },
   "outputs": [],
   "source": [
    "X1 = np.array([\n",
    "        [100, 0.6, 1],\n",
    "        [138, 0.7, 1],\n",
    "        [111, 0.2, 0],\n",
    "        [180, 0.2, 1]\n",
    "    ])\n",
    "Y1 = np.array([\n",
    "        [137, 0.7, 1],\n",
    "        [144, 0.5, 0]\n",
    "    ])"
   ]
  },
  {
   "cell_type": "code",
   "execution_count": 6,
   "metadata": {
    "collapsed": true
   },
   "outputs": [],
   "source": [
    "X2 = np.array([\n",
    "        [0.6],\n",
    "        [0.7],\n",
    "        [0.2],\n",
    "        [0.2]\n",
    "    ])\n",
    "Y2 = np.array([\n",
    "        [0.7]\n",
    "    ])"
   ]
  },
  {
   "cell_type": "code",
   "execution_count": 7,
   "metadata": {
    "collapsed": true
   },
   "outputs": [],
   "source": [
    "X3 = np.array([\n",
    "        [100, 0.6, 1, 138, 0.7, 1, 111, 0.2, 0]\n",
    "    ])\n",
    "Y3 = np.array([\n",
    "        [137, 0.7, 1, 144, 0.5, 0, 137, 0.7, 1]\n",
    "    ])"
   ]
  },
  {
   "cell_type": "code",
   "execution_count": 8,
   "metadata": {
    "collapsed": false
   },
   "outputs": [
    {
     "name": "stdout",
     "output_type": "stream",
     "text": [
      "[[ 37.00013513  44.01147578]\n",
      " [  1.           6.08604962]\n",
      " [ 26.02402736  33.00136361]\n",
      " [ 43.00290688  36.01513571]]\n",
      "[[ 0.1]\n",
      " [ 0. ]\n",
      " [ 0.5]\n",
      " [ 0.5]]\n",
      "[[ 45.64318131]]\n"
     ]
    }
   ],
   "source": [
    "print(task7.object_dist1(X1, Y1))\n",
    "print(task7.object_dist1(X2, Y2))\n",
    "print(task7.object_dist1(X3, Y3))"
   ]
  },
  {
   "cell_type": "code",
   "execution_count": 9,
   "metadata": {
    "collapsed": false
   },
   "outputs": [
    {
     "name": "stdout",
     "output_type": "stream",
     "text": [
      "[[ 37.00013513  44.01147578]\n",
      " [  1.           6.08604962]\n",
      " [ 26.02402736  33.00136361]\n",
      " [ 43.00290688  36.01513571]]\n",
      "[[ 0.1]\n",
      " [ 0. ]\n",
      " [ 0.5]\n",
      " [ 0.5]]\n",
      "[[ 45.64318131]]\n"
     ]
    }
   ],
   "source": [
    "print(task7.object_dist2(X1, Y1))\n",
    "print(task7.object_dist2(X2, Y2))\n",
    "print(task7.object_dist2(X3, Y3))"
   ]
  },
  {
   "cell_type": "code",
   "execution_count": 10,
   "metadata": {
    "collapsed": false
   },
   "outputs": [
    {
     "name": "stdout",
     "output_type": "stream",
     "text": [
      "[[ 37.00013513  44.01147578]\n",
      " [  1.           6.08604962]\n",
      " [ 26.02402736  33.00136361]\n",
      " [ 43.00290688  36.01513571]]\n",
      "[[ 0.1]\n",
      " [ 0. ]\n",
      " [ 0.5]\n",
      " [ 0.5]]\n",
      "[[ 45.64318131]]\n"
     ]
    }
   ],
   "source": [
    "print(task7.object_dist3(X1, Y1))\n",
    "print(task7.object_dist3(X2, Y2))\n",
    "print(task7.object_dist3(X3, Y3))"
   ]
  },
  {
   "cell_type": "code",
   "execution_count": 11,
   "metadata": {
    "collapsed": false
   },
   "outputs": [
    {
     "name": "stdout",
     "output_type": "stream",
     "text": [
      "[[ 37.00013513  44.01147578]\n",
      " [  1.           6.08604962]\n",
      " [ 26.02402736  33.00136361]\n",
      " [ 43.00290688  36.01513571]]\n",
      "[[ 0.1]\n",
      " [ 0. ]\n",
      " [ 0.5]\n",
      " [ 0.5]]\n",
      "[[ 45.64318131]]\n"
     ]
    }
   ],
   "source": [
    "print(scipy.spatial.distance.cdist(X1, Y1))\n",
    "print(scipy.spatial.distance.cdist(X2, Y2))\n",
    "print(scipy.spatial.distance.cdist(X3, Y3))"
   ]
  },
  {
   "cell_type": "code",
   "execution_count": 19,
   "metadata": {
    "collapsed": true
   },
   "outputs": [],
   "source": [
    "n_tests = 7\n",
    "n_iterations = 5\n",
    "np.random.seed(317)\n",
    "power = 3\n",
    "parameter = 2\n",
    "durations1 = np.zeros((n_tests - 1))\n",
    "durations2 = np.zeros((n_tests - 1))\n",
    "durations3 = np.zeros((n_tests - 1))\n",
    "durations4 = np.zeros((n_tests - 1))\n",
    "vec = [x ** power for x in range(1, n_tests)]"
   ]
  },
  {
   "cell_type": "code",
   "execution_count": 20,
   "metadata": {
    "collapsed": false
   },
   "outputs": [],
   "source": [
    "for test in range(1, n_tests):\n",
    "    X = np.random.normal(scale = parameter, size=(test ** power, test ** power))\n",
    "    Y = np.random.normal(scale = parameter, size=(test ** power, test ** power))\n",
    "    start = time.time()\n",
    "    for iteration in range(n_iterations):\n",
    "        task7.object_dist1(X, Y)\n",
    "    durations1[test-1] = (time.time() - start) / n_iterations\n",
    "    \n",
    "for test in range(1, n_tests):\n",
    "    X = np.random.normal(scale = parameter, size=(test ** power, test ** power))\n",
    "    Y = np.random.normal(scale = parameter, size=(test ** power, test ** power))\n",
    "    start = time.time()\n",
    "    for iteration in range(n_iterations):\n",
    "        task7.object_dist2(X, Y)\n",
    "    durations2[test-1] = (time.time() - start) / n_iterations\n",
    "    \n",
    "for test in range(1, n_tests):\n",
    "    X = np.random.normal(scale = parameter, size=(test ** power, test ** power))\n",
    "    Y = np.random.normal(scale = parameter, size=(test ** power, test ** power))\n",
    "    start = time.time()\n",
    "    for iteration in range(n_iterations):\n",
    "        task7.object_dist3(X, Y)\n",
    "    durations3[test-1] = (time.time() - start) / n_iterations\n",
    "    \n",
    "for test in range(1, n_tests):\n",
    "    X = np.random.normal(scale = parameter, size=(test ** power, test ** power))\n",
    "    Y = np.random.normal(scale = parameter, size=(test ** power, test ** power))\n",
    "    start = time.time()\n",
    "    for iteration in range(n_iterations):\n",
    "        scipy.spatial.distance.cdist(X, Y)\n",
    "    durations4[test-1] = (time.time() - start) / n_iterations"
   ]
  },
  {
   "cell_type": "code",
   "execution_count": 21,
   "metadata": {
    "collapsed": false
   },
   "outputs": [
    {
     "data": {
      "image/png": "[encoded data removed]",
      "text/plain": [
       "<matplotlib.figure.Figure at 0x7f7a295de128>"
      ]
     },
     "metadata": {},
     "output_type": "display_data"
    }
   ],
   "source": [
    "pp = PdfPages('task7.pdf')\n",
    "plt.plot(range(len(vec)), durations1 * 1000, '-o')\n",
    "plt.plot(range(len(vec)), durations2 * 1000, '-o')\n",
    "plt.plot(range(len(vec)), durations3 * 1000, '-o')\n",
    "plt.plot(range(len(vec)), durations4 * 1000, '-o')\n",
    "plt.title('Task 7 performance')\n",
    "plt.legend(['vectorized', 'nonvectorized', 'semi-vectorized', 'scipy'], loc='upper left')\n",
    "plt.xticks(range(len(vec)), vec)\n",
    "plt.ylabel('duration, ms')\n",
    "plt.xlabel('test_size')\n",
    "plt.yscale('log')\n",
    "pp.savefig()\n",
    "pp.close()"
   ]
  },
  {
   "cell_type": "markdown",
   "metadata": {
    "collapsed": true
   },
   "source": [
    "# Задание 8"
   ]
  },
  {
   "cell_type": "code",
   "execution_count": 37,
   "metadata": {
    "collapsed": true
   },
   "outputs": [],
   "source": [
    "import task8"
   ]
  },
  {
   "cell_type": "code",
   "execution_count": 234,
   "metadata": {
    "collapsed": false
   },
   "outputs": [
    {
     "data": {
      "text/plain": [
       "<module 'task8' from '/home/evgeny/progs/Python/prac/task1/task8.py'>"
      ]
     },
     "execution_count": 234,
     "metadata": {},
     "output_type": "execute_result"
    }
   ],
   "source": [
    "reload(task8)"
   ]
  },
  {
   "cell_type": "code",
   "execution_count": 57,
   "metadata": {
    "collapsed": true
   },
   "outputs": [],
   "source": [
    "import scipy.stats"
   ]
  },
  {
   "cell_type": "code",
   "execution_count": 162,
   "metadata": {
    "collapsed": false
   },
   "outputs": [],
   "source": [
    "m1 = np.array([9, 2])\n",
    "C1 = np.array([\n",
    "        [5, 7],\n",
    "        [2, 3]\n",
    "    ])\n",
    "X1 = np.random.multivariate_normal(m1, C1, size=7)"
   ]
  },
  {
   "cell_type": "code",
   "execution_count": 194,
   "metadata": {
    "collapsed": false
   },
   "outputs": [],
   "source": [
    "m2 = np.random.poisson(lam=2, size=(2))\n",
    "C2 = np.random.randint(1, 9, size=(2, 2))\n",
    "X2 = np.random.multivariate_normal(m2, C2, size=7)"
   ]
  },
  {
   "cell_type": "code",
   "execution_count": 229,
   "metadata": {
    "collapsed": false
   },
   "outputs": [],
   "source": [
    "m3 = np.random.poisson(lam=2, size=(4))\n",
    "C3 = np.identity(4)\n",
    "X3 = np.random.multivariate_normal(m3, C3, size=1)"
   ]
  },
  {
   "cell_type": "code",
   "execution_count": 230,
   "metadata": {
    "collapsed": false
   },
   "outputs": [
    {
     "name": "stdout",
     "output_type": "stream",
     "text": [
      "[-2.95331069 -2.42885844 -1.85405874 -1.09418989 -1.39143873  0.05877971\n",
      " -4.62850689]\n",
      "[-5.37103723 -3.99326566 -3.87792092 -5.33263379 -3.95284126 -5.05613113\n",
      " -5.72807638]\n",
      "[-7.07536571]\n"
     ]
    }
   ],
   "source": [
    "print(task8.function1(X1, m1, C1))\n",
    "print(task8.function1(X2, m2, C2))\n",
    "print(task8.function1(X3, m3, C3))"
   ]
  },
  {
   "cell_type": "code",
   "execution_count": 231,
   "metadata": {
    "collapsed": false
   },
   "outputs": [
    {
     "name": "stdout",
     "output_type": "stream",
     "text": [
      "[-2.95331069 -2.42885844 -1.85405874 -1.09418989 -1.39143873  0.05877971\n",
      " -4.62850689]\n",
      "[-5.37103723 -3.99326566 -3.87792092 -5.33263379 -3.95284126 -5.05613113\n",
      " -5.72807638]\n",
      "[-7.07536571]\n"
     ]
    }
   ],
   "source": [
    "print(task8.function2(X1, m1, C1))\n",
    "print(task8.function2(X2, m2, C2))\n",
    "print(task8.function2(X3, m3, C3))"
   ]
  },
  {
   "cell_type": "code",
   "execution_count": 235,
   "metadata": {
    "collapsed": false
   },
   "outputs": [
    {
     "name": "stdout",
     "output_type": "stream",
     "text": [
      "[-2.95331069 -2.42885844 -1.85405874 -1.09418989 -1.39143873  0.05877971\n",
      " -4.62850689]\n",
      "[-5.37103723 -3.99326566 -3.87792092 -5.33263379 -3.95284126 -5.05613113\n",
      " -5.72807638]\n",
      "[-7.07536571]\n"
     ]
    }
   ],
   "source": [
    "print(task8.function3(X1, m1, C1))\n",
    "print(task8.function3(X2, m2, C2))\n",
    "print(task8.function3(X3, m3, C3))"
   ]
  },
  {
   "cell_type": "code",
   "execution_count": 233,
   "metadata": {
    "collapsed": false
   },
   "outputs": [
    {
     "name": "stdout",
     "output_type": "stream",
     "text": [
      "[-3.39201868 -3.07452636 -3.07906933 -3.24404055 -3.4235602  -3.76780815\n",
      " -4.34228494]\n",
      "[-5.92799997 -4.06378278 -3.93653862 -5.08019212 -3.9814869  -4.8191736\n",
      " -6.04729788]\n",
      "-7.07536570942\n"
     ]
    }
   ],
   "source": [
    "print(scipy.stats.multivariate_normal(m1, C1).logpdf(X1))\n",
    "print(scipy.stats.multivariate_normal(m2, C2).logpdf(X2))\n",
    "print(scipy.stats.multivariate_normal(m3, C3).logpdf(X3))"
   ]
  },
  {
   "cell_type": "code",
   "execution_count": 275,
   "metadata": {
    "collapsed": true
   },
   "outputs": [],
   "source": [
    "n_tests = 6\n",
    "n_iterations = 5\n",
    "np.random.seed(317)\n",
    "power = 3\n",
    "parameter = 2\n",
    "durations1 = np.zeros((n_tests - 1))\n",
    "durations2 = np.zeros((n_tests - 1))\n",
    "durations3 = np.zeros((n_tests - 1))\n",
    "durations4 = np.zeros((n_tests - 1))\n",
    "vec = [x ** power for x in range(1, n_tests)]"
   ]
  },
  {
   "cell_type": "code",
   "execution_count": 276,
   "metadata": {
    "collapsed": false
   },
   "outputs": [],
   "source": [
    "for test in range(1, n_tests):\n",
    "    m = np.random.randint(4, size=(test ** power))\n",
    "    A = np.random.normal(1, size=(test ** power, test ** power))\n",
    "    C = np.dot(A, A.T)\n",
    "    X = np.random.multivariate_normal(m, C, size=test ** power)\n",
    "    start = time.time()\n",
    "    for iteration in range(n_iterations):\n",
    "        task8.function1(X, m, C)\n",
    "    durations1[test-1] = (time.time() - start) / n_iterations\n",
    "    \n",
    "for test in range(1, n_tests):\n",
    "    m = np.random.randint(4, size=(test ** power))\n",
    "    A = np.random.normal(1, size=(test ** power, test ** power))\n",
    "    C = np.dot(A, A.T)\n",
    "    X = np.random.multivariate_normal(m, C, size=test ** power)\n",
    "    start = time.time()\n",
    "    for iteration in range(n_iterations):\n",
    "        task8.function2(X, m, C)\n",
    "    durations2[test-1] = (time.time() - start) / n_iterations\n",
    "    \n",
    "for test in range(1, n_tests):\n",
    "    m = np.random.randint(4, size=(test ** power))\n",
    "    A = np.random.normal(1, size=(test ** power, test ** power))\n",
    "    C = np.dot(A, A.T)\n",
    "    X = np.random.multivariate_normal(m, C, size=test ** power)\n",
    "    start = time.time()\n",
    "    for iteration in range(n_iterations):\n",
    "        task8.function3(X, m, C)\n",
    "    durations3[test-1] = (time.time() - start) / n_iterations\n",
    "    \n",
    "for test in range(1, n_tests):\n",
    "    m = np.random.randint(4, size=(test ** power))\n",
    "    A = np.random.normal(1, size=(test ** power, test ** power))\n",
    "    C = np.dot(A, A.T)\n",
    "    X = np.random.multivariate_normal(m, C, size=test ** power)\n",
    "    start = time.time()\n",
    "    for iteration in range(n_iterations):\n",
    "        scipy.stats.multivariate_normal(m, C).logpdf(X)\n",
    "    durations4[test-1] = (time.time() - start) / n_iterations"
   ]
  },
  {
   "cell_type": "code",
   "execution_count": 278,
   "metadata": {
    "collapsed": false
   },
   "outputs": [
    {
     "data": {
      "image/png": "[encoded data removed]",
      "text/plain": [
       "<matplotlib.figure.Figure at 0x7f7a1e6dbb00>"
      ]
     },
     "metadata": {},
     "output_type": "display_data"
    }
   ],
   "source": [
    "pp = PdfPages('task8.pdf')\n",
    "plt.plot(range(len(vec)), durations1 * 1000, '-o')\n",
    "plt.plot(range(len(vec)), durations2 * 1000, '-o')\n",
    "plt.plot(range(len(vec)), durations3 * 1000, '-o')\n",
    "plt.plot(range(len(vec)), durations4 * 1000, '-o')\n",
    "plt.title('Task 8 performance')\n",
    "plt.legend(['vectorized', 'nonvectorized', 'semi-vectorized', 'scipy'], loc='upper left')\n",
    "plt.xticks(range(len(vec)), vec)\n",
    "plt.ylabel('duration, ms')\n",
    "plt.xlabel('test_size')\n",
    "plt.yscale('log')\n",
    "pp.savefig()\n",
    "pp.close()"
   ]
  },
  {
   "cell_type": "code",
   "execution_count": null,
   "metadata": {
    "collapsed": true
   },
   "outputs": [],
   "source": []
  }
 ],
 "metadata": {
  "kernelspec": {
   "display_name": "Python 3",
   "language": "python",
   "name": "python3"
  },
  "language_info": {
   "codemirror_mode": {
    "name": "ipython",
    "version": 3
   },
   "file_extension": ".py",
   "mimetype": "text/x-python",
   "name": "python",
   "nbconvert_exporter": "python",
   "pygments_lexer": "ipython3",
   "version": "3.4.3"
  }
 },
 "nbformat": 4,
 "nbformat_minor": 0
}
